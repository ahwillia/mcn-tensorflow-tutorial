{
 "cells": [
  {
   "cell_type": "markdown",
   "metadata": {},
   "source": [
    "# Getting Started with TensorFlow\n",
    "\n",
    "This notebook contains some small code pieces to give you a sense of basic tensorflow functions. You can use this as a space to play around with tensorflow functionality."
   ]
  },
  {
   "cell_type": "code",
   "execution_count": 1,
   "metadata": {
    "collapsed": true
   },
   "outputs": [],
   "source": [
    "import tensorflow as tf\n",
    "import numpy as np"
   ]
  },
  {
   "cell_type": "markdown",
   "metadata": {},
   "source": [
    "## Session\n",
    "\n",
    "The code below demonstrates how to use `sess.run()` to make tensorflow talk to python and vice versa."
   ]
  },
  {
   "cell_type": "code",
   "execution_count": 2,
   "metadata": {
    "collapsed": false
   },
   "outputs": [
    {
     "name": "stdout",
     "output_type": "stream",
     "text": [
      "Tensor(\"Const:0\", shape=(), dtype=string)\n",
      "b'hello world!'\n",
      "--------------------------------------------------\n",
      "Tensor(\"Const_1:0\", shape=(4,), dtype=int32)\n",
      "[1 2 3 4]\n"
     ]
    }
   ],
   "source": [
    "sess = tf.Session()\n",
    "\n",
    "# an example with strings\n",
    "hello_tensorflow = tf.constant('hello world!')\n",
    "print(hello_tensorflow)\n",
    "\n",
    "hello_python = sess.run(hello_tensorflow)\n",
    "print(hello_python), print('-'*50)\n",
    "\n",
    "# an example with numbers\n",
    "tensorflow_vector = tf.constant([1, 2, 3, 4])\n",
    "print(tensorflow_vector)\n",
    "\n",
    "python_vector = sess.run(tensorflow_vector)\n",
    "print(python_vector)"
   ]
  },
  {
   "cell_type": "markdown",
   "metadata": {},
   "source": [
    "## Placeholders\n",
    "\n",
    "The code below demonstrates how to use `feed_dict` in conjunction with placeholder variables."
   ]
  },
  {
   "cell_type": "code",
   "execution_count": 3,
   "metadata": {
    "collapsed": false
   },
   "outputs": [
    {
     "data": {
      "text/plain": [
       "array([ 2.,  6.], dtype=float32)"
      ]
     },
     "execution_count": 3,
     "metadata": {},
     "output_type": "execute_result"
    }
   ],
   "source": [
    "# make two placeholders\n",
    "foo = tf.placeholder(tf.float32, shape=(2,))\n",
    "bar = tf.placeholder(tf.float32, shape=(2,))\n",
    "\n",
    "# computational graph\n",
    "baz = foo * bar\n",
    "\n",
    "# values for the placeholders\n",
    "feed_dict = {\n",
    "    foo: np.array([1, 2]),\n",
    "    bar: np.array([2, 3])\n",
    "}\n",
    "\n",
    "sess.run(baz, feed_dict=feed_dict)"
   ]
  },
  {
   "cell_type": "markdown",
   "metadata": {},
   "source": [
    "## Computing Gradients\n",
    "\n",
    "You can use [`tf.gradients(y, x)`](https://www.tensorflow.org/api_docs/python/tf/gradients) to compute the derivative of a variable `y` with respect to `x`."
   ]
  },
  {
   "cell_type": "code",
   "execution_count": 7,
   "metadata": {
    "collapsed": false
   },
   "outputs": [
    {
     "name": "stdout",
     "output_type": "stream",
     "text": [
      "deriv of x1 w.r.t. loss = 1.0\n",
      "deriv of w1 w.r.t. loss = 1.0\n",
      "deriv of w2 w.r.t. loss = 1.0\n",
      "deriv of y w.r.t. loss = -1.0\n"
     ]
    }
   ],
   "source": [
    "x1 = tf.placeholder(tf.float32)\n",
    "w1 = tf.placeholder(tf.float32)\n",
    "w2 = tf.placeholder(tf.float32)\n",
    "y = tf.placeholder(tf.float32)\n",
    "\n",
    "x2 = x1 * w1\n",
    "x3 = x2 * w2\n",
    "\n",
    "loss = 0.5 * (y - x3)**2\n",
    "\n",
    "feed_dict = {\n",
    "    x1: 1,\n",
    "    w1: 1,\n",
    "    w2: 1,\n",
    "    y: 0\n",
    "}\n",
    "\n",
    "for variable, name in zip([x1, w1, w2, y], ['x1', 'w1', 'w2', 'y']):\n",
    "    val = sess.run(tf.gradients(loss, variable), feed_dict=feed_dict)[0]\n",
    "    print('deriv of {} w.r.t. loss = {}'.format(name, val))"
   ]
  }
 ],
 "metadata": {
  "kernelspec": {
   "display_name": "Python 3",
   "language": "python",
   "name": "python3"
  },
  "language_info": {
   "codemirror_mode": {
    "name": "ipython",
    "version": 3
   },
   "file_extension": ".py",
   "mimetype": "text/x-python",
   "name": "python",
   "nbconvert_exporter": "python",
   "pygments_lexer": "ipython3",
   "version": "3.5.2"
  }
 },
 "nbformat": 4,
 "nbformat_minor": 1
}
