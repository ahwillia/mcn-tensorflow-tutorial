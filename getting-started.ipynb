{
 "cells": [
  {
   "cell_type": "markdown",
   "metadata": {},
   "source": [
    "# Getting Started with TensorFlow"
   ]
  },
  {
   "cell_type": "code",
   "execution_count": 1,
   "metadata": {
    "collapsed": true
   },
   "outputs": [],
   "source": [
    "import tensorflow as tf\n",
    "import numpy as np"
   ]
  },
  {
   "cell_type": "markdown",
   "metadata": {},
   "source": [
    "## Session"
   ]
  },
  {
   "cell_type": "code",
   "execution_count": 2,
   "metadata": {
    "collapsed": false
   },
   "outputs": [
    {
     "name": "stdout",
     "output_type": "stream",
     "text": [
      "Tensor(\"Const:0\", shape=(), dtype=string)\n",
      "b'hello world!'\n",
      "--------------------------------------------------\n",
      "Tensor(\"Const_1:0\", shape=(4,), dtype=int32)\n",
      "[1 2 3 4]\n"
     ]
    }
   ],
   "source": [
    "sess = tf.Session()\n",
    "\n",
    "# an example with strings\n",
    "hello_tensorflow = tf.constant('hello world!')\n",
    "print(hello_tensorflow)\n",
    "\n",
    "hello_python = sess.run(hello_tensorflow)\n",
    "print(hello_python), print('-'*50)\n",
    "\n",
    "# an example with numbers\n",
    "tensorflow_vector = tf.constant([1, 2, 3, 4])\n",
    "print(tensorflow_vector)\n",
    "\n",
    "python_vector = sess.run(tensorflow_vector)\n",
    "print(python_vector)"
   ]
  },
  {
   "cell_type": "markdown",
   "metadata": {},
   "source": [
    "## Placeholders"
   ]
  },
  {
   "cell_type": "code",
   "execution_count": 3,
   "metadata": {
    "collapsed": false
   },
   "outputs": [
    {
     "data": {
      "text/plain": [
       "array([ 2.,  6.], dtype=float32)"
      ]
     },
     "execution_count": 3,
     "metadata": {},
     "output_type": "execute_result"
    }
   ],
   "source": [
    "# make two placeholders\n",
    "foo = tf.placeholder(tf.float32, shape=(2,))\n",
    "bar = tf.placeholder(tf.float32, shape=(2,))\n",
    "\n",
    "# computational graph\n",
    "baz = foo * bar\n",
    "\n",
    "# values for the placeholders\n",
    "feed_dict = {\n",
    "    foo: np.array([1, 2]),\n",
    "    bar: np.array([2, 3])\n",
    "}\n",
    "\n",
    "sess.run(baz, feed_dict=feed_dict)"
   ]
  }
 ],
 "metadata": {
  "kernelspec": {
   "display_name": "Python 3",
   "language": "python",
   "name": "python3"
  },
  "language_info": {
   "codemirror_mode": {
    "name": "ipython",
    "version": 3
   },
   "file_extension": ".py",
   "mimetype": "text/x-python",
   "name": "python",
   "nbconvert_exporter": "python",
   "pygments_lexer": "ipython3",
   "version": "3.5.2"
  }
 },
 "nbformat": 4,
 "nbformat_minor": 1
}
